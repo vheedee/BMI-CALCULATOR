{
 "cells": [
  {
   "cell_type": "markdown",
   "id": "5d753a50-57ff-4b14-b3e4-b3d80bb79430",
   "metadata": {},
   "source": [
    "    BMI CALCULATOR "
   ]
  },
  {
   "cell_type": "code",
   "execution_count": null,
   "id": "85701c42-7992-43c2-80dc-0db0beeadcda",
   "metadata": {},
   "outputs": [],
   "source": [
    "#BMI = (weight in pounds * 703) /  (height in inches * height in inches)\n",
    "\n",
    "name = (input('Input First Name'))\n",
    "weight = int(input('Enter weight in pounds :'))\n",
    "height = int(input('Enter height in inches :'))\n",
    "\n",
    "BMI = (weight * 703) /  (height * height)\n",
    "print(BMI)\n",
    "\n",
    "if BMI>0:\n",
    "    if (BMI <= 18.5):\n",
    "        print (name + ', you are underweight, eat more protain and move daily')\n",
    "    elif (BMI <= 24.9): \n",
    "        print (name + ', you are Normal Weight, keep this up, dont forget to drink water')\n",
    "    elif (BMI <= 29.9): \n",
    "        print (name + ', you are overweight Weight, reduce protain intake')\n",
    "    elif (BMI <= 34.9): \n",
    "        print (name + ', you are obese, drink a lot of water and excerise')\n",
    "    elif (BMI <= 39.9): \n",
    "        print (name + ', you are severely obese, running 30 min per day make you much healthy.')\n",
    "    else: \n",
    "        print (name + ', you are morbidly obese, see a Doctor.')\n",
    "else:\n",
    "    print('Enter valid input')\n",
    "\n"
   ]
  }
 ],
 "metadata": {
  "kernelspec": {
   "display_name": "Python 3 (ipykernel)",
   "language": "python",
   "name": "python3"
  },
  "language_info": {
   "codemirror_mode": {
    "name": "ipython",
    "version": 3
   },
   "file_extension": ".py",
   "mimetype": "text/x-python",
   "name": "python",
   "nbconvert_exporter": "python",
   "pygments_lexer": "ipython3",
   "version": "3.12.4"
  }
 },
 "nbformat": 4,
 "nbformat_minor": 5
}
